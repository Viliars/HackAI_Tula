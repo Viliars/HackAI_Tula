{
 "cells": [
  {
   "cell_type": "code",
   "execution_count": 455,
   "metadata": {},
   "outputs": [],
   "source": [
    "import warnings\n",
    "warnings.filterwarnings(\"ignore\")"
   ]
  },
  {
   "cell_type": "code",
   "execution_count": 456,
   "metadata": {},
   "outputs": [],
   "source": [
    "import pandas as pd\n",
    "import numpy as np\n",
    "import matplotlib.pyplot as plt\n",
    "from tqdm.notebook import tqdm\n",
    "from catboost import CatBoostRegressor, Pool"
   ]
  },
  {
   "cell_type": "markdown",
   "metadata": {},
   "source": [
    "### Читаем данные"
   ]
  },
  {
   "cell_type": "code",
   "execution_count": 457,
   "metadata": {
    "id": "o9N4JbcWudk2"
   },
   "outputs": [],
   "source": [
    "train = []\n",
    "for z in range(44, -1, -1):\n",
    "    train.append( pd.read_csv(f\"train/train{z}.csv\", sep=\";\", index_col=None, dtype={'PATIENT_SEX':str, 'MKB_CODE':str, 'ADRES':str, 'VISIT_MONTH_YEAR':str, 'AGE_CATEGORY':str, 'PATIENT_ID_COUNT':int}))\n",
    "\n",
    "test = pd.read_csv(f\"prepared_test.csv\", sep=\";\", index_col=None, dtype={'PATIENT_SEX':str, 'MKB_CODE':str, 'ADRES':str, 'VISIT_MONTH_YEAR':str, 'AGE_CATEGORY':str, 'PATIENT_ID_COUNT':int})"
   ]
  },
  {
   "cell_type": "code",
   "execution_count": 458,
   "metadata": {},
   "outputs": [
    {
     "data": {
      "text/plain": [
       "45"
      ]
     },
     "execution_count": 458,
     "metadata": {},
     "output_type": "execute_result"
    }
   ],
   "source": [
    "len(train)"
   ]
  },
  {
   "cell_type": "markdown",
   "metadata": {},
   "source": [
    "### Юзаем  категориальные фичи для CatBoost\n",
    "\n",
    "И удялаем численные, которые их заменяют"
   ]
  },
  {
   "cell_type": "code",
   "execution_count": 459,
   "metadata": {},
   "outputs": [],
   "source": [
    "# for catboost\n",
    "X, y = [], []\n",
    "for i in range(45):\n",
    "    train[i].drop(['MONTH', \"AGE\", 'YEAR', 'SEX', 'CITY'], axis=1, inplace=True)\n",
    "    X.append(train[i].drop(\"PATIENT_ID_COUNT\", axis=1))\n",
    "    y.append(train[i][\"PATIENT_ID_COUNT\"])\n",
    "test.drop(['MONTH', \"AGE\", 'YEAR', 'SEX', 'CITY', \"PATIENT_ID_COUNT\"], axis=1, inplace=True)"
   ]
  },
  {
   "cell_type": "code",
   "execution_count": 460,
   "metadata": {},
   "outputs": [],
   "source": [
    "from sklearn.model_selection import TimeSeriesSplit\n",
    "from sklearn.metrics import r2_score"
   ]
  },
  {
   "cell_type": "markdown",
   "metadata": {},
   "source": [
    "### Обучение Catboost, чтобы достать лучшие признаки\n",
    "\n",
    "Можно обучать на последних N месяцев"
   ]
  },
  {
   "cell_type": "code",
   "execution_count": 487,
   "metadata": {},
   "outputs": [],
   "source": [
    "N = len(X) # len(X) - Обучение на всех данных"
   ]
  },
  {
   "cell_type": "code",
   "execution_count": 488,
   "metadata": {},
   "outputs": [
    {
     "data": {
      "text/plain": [
       "<catboost.core.CatBoostRegressor at 0x7f520b1ce910>"
      ]
     },
     "execution_count": 488,
     "metadata": {},
     "output_type": "execute_result"
    }
   ],
   "source": [
    "pool_train = Pool(pd.concat(X[-N:]), pd.concat(y[-N:]), cat_features = ['ADRES', 'VISIT_MONTH_YEAR','PATIENT_SEX', 'MKB_CODE', 'AGE_CATEGORY'])\n",
    "\n",
    "model = CatBoostRegressor(task_type=\"GPU\")\n",
    "model.fit(pool_train, verbose=False)"
   ]
  },
  {
   "cell_type": "markdown",
   "metadata": {},
   "source": [
    "#### С помощью CatBoost достаем самые полезные фичи"
   ]
  },
  {
   "cell_type": "code",
   "execution_count": 489,
   "metadata": {},
   "outputs": [
    {
     "data": {
      "text/plain": [
       "<AxesSubplot:>"
      ]
     },
     "execution_count": 489,
     "metadata": {},
     "output_type": "execute_result"
    },
    {
     "data": {
      "image/png": "[encoded data removed]",
      "text/plain": [
       "<Figure size 1440x720 with 1 Axes>"
      ]
     },
     "metadata": {
      "needs_background": "light"
     },
     "output_type": "display_data"
    }
   ],
   "source": [
    "(pd.Series(model.feature_importances_, index=X[0].columns)\n",
    "   .nlargest(10)\n",
    "   .plot(kind='barh', figsize=(20, 10)))"
   ]
  },
  {
   "cell_type": "code",
   "execution_count": 490,
   "metadata": {},
   "outputs": [],
   "source": [
    "best_features = pd.Series(model.feature_importances_, index=X[0].columns).nlargest(10).index"
   ]
  },
  {
   "cell_type": "code",
   "execution_count": 491,
   "metadata": {},
   "outputs": [
    {
     "data": {
      "text/plain": [
       "Index(['PATIENT_ID_COUNT_prev1', 'diff1-6', 'PATIENT_ID_COUNT_prev12',\n",
       "       'diff1-2', 'PATIENT_ID_COUNT_prev2', 'PATIENT_ID_COUNT_prev3',\n",
       "       'PATIENT_ID_COUNT_prev4', 'VISIT_MONTH_YEAR', 'PATIENT_ID_COUNT_prev7',\n",
       "       'PATIENT_ID_COUNT_prev11'],\n",
       "      dtype='object')"
      ]
     },
     "execution_count": 491,
     "metadata": {},
     "output_type": "execute_result"
    }
   ],
   "source": [
    "best_features"
   ]
  },
  {
   "cell_type": "code",
   "execution_count": 492,
   "metadata": {},
   "outputs": [],
   "source": [
    "best_linear_features = best_features.drop(['VISIT_MONTH_YEAR'])"
   ]
  },
  {
   "cell_type": "code",
   "execution_count": 493,
   "metadata": {},
   "outputs": [
    {
     "data": {
      "text/plain": [
       "Index(['PATIENT_ID_COUNT_prev1', 'diff1-6', 'PATIENT_ID_COUNT_prev12',\n",
       "       'diff1-2', 'PATIENT_ID_COUNT_prev2', 'PATIENT_ID_COUNT_prev3',\n",
       "       'PATIENT_ID_COUNT_prev4', 'PATIENT_ID_COUNT_prev7',\n",
       "       'PATIENT_ID_COUNT_prev11'],\n",
       "      dtype='object')"
      ]
     },
     "execution_count": 493,
     "metadata": {},
     "output_type": "execute_result"
    }
   ],
   "source": [
    "best_linear_features"
   ]
  },
  {
   "cell_type": "markdown",
   "metadata": {},
   "source": [
    "#### Выбираем сколько конкретно фич будем использовать с помощью кросс-валидации для рядов"
   ]
  },
  {
   "cell_type": "code",
   "execution_count": 472,
   "metadata": {},
   "outputs": [
    {
     "name": "stdout",
     "output_type": "stream",
     "text": [
      "k= 1  median= 0.861  mean= 0.747\n",
      "k= 2  median= 0.846  mean= 0.764\n",
      "k= 3  median= 0.855  mean= 0.764\n",
      "k= 4  median= 0.855  mean= 0.764\n",
      "k= 5  median= 0.853  mean= 0.768\n",
      "k= 6  median= 0.866  mean= 0.758\n",
      "k= 7  median= 0.864  mean= 0.754\n",
      "k= 8  median= 0.847  mean= 0.746\n",
      "k= 9  median= 0.847  mean= 0.746\n"
     ]
    }
   ],
   "source": [
    "logs = []\n",
    "for k in range(1, 10):\n",
    "    tscv = TimeSeriesSplit(n_splits=42, max_train_size=20)\n",
    "    score = []\n",
    "    i = 0\n",
    "    for tr_index, val_index in tscv.split(X):\n",
    "        i += 1\n",
    "        # не очень интересны самые старые предсказания\n",
    "        if i < 20:\n",
    "            continue\n",
    "        X_tr, X_val = pd.concat([X[z] for z in tr_index])[best_linear_features[:k]], pd.concat([X[z] for z in val_index])[best_linear_features[:k]]\n",
    "        y_tr, y_val = pd.concat([y[z] for z in tr_index]), pd.concat([y[z] for z in val_index])\n",
    "        model = LinearRegression()\n",
    "        model.fit(X_tr, y_tr)\n",
    "\n",
    "        pred = model.predict(X_val)\n",
    "        score.append(r2_score(y_val, pred))\n",
    "    \n",
    "    logs.append(score)\n",
    "\n",
    "    print(\"k=\", k, \" median=\", round(np.median(score), 3), \" mean=\", round(np.mean(score), 3))"
   ]
  },
  {
   "cell_type": "markdown",
   "metadata": {},
   "source": [
    "### Для борьбы с переобучением использую линейные модели"
   ]
  },
  {
   "cell_type": "code",
   "execution_count": 494,
   "metadata": {},
   "outputs": [],
   "source": [
    "from sklearn.linear_model import LinearRegression, Lasso, Ridge"
   ]
  },
  {
   "cell_type": "code",
   "execution_count": 496,
   "metadata": {},
   "outputs": [],
   "source": [
    "k = 6\n",
    "N = 20 # последние данные больше интересны чем все"
   ]
  },
  {
   "cell_type": "code",
   "execution_count": 497,
   "metadata": {},
   "outputs": [],
   "source": [
    "best_model = LinearRegression() #\n",
    "best_model.fit(pd.concat(X[-N:])[best_linear_features[:k]], pd.concat(y[-N:]))\n",
    "pred = np.round(best_model.predict(test[best_linear_features[:k]])).astype(np.int64)"
   ]
  },
  {
   "cell_type": "markdown",
   "metadata": {},
   "source": [
    "Модель обучена на N месяцев. Линейная модель при таком кол-ве данных не офервитится, но не учитывает тренд. Предсказывает результаты на уровне (N/2). Поэтому результат нужно домножить на (N/2) трендовых коэффициентов."
   ]
  },
  {
   "cell_type": "code",
   "execution_count": 498,
   "metadata": {},
   "outputs": [],
   "source": [
    "import pickle"
   ]
  },
  {
   "cell_type": "code",
   "execution_count": 499,
   "metadata": {},
   "outputs": [],
   "source": [
    "with open(\"trend_coefs.pkl\", \"rb\") as fin:\n",
    "    trend_coefs = pickle.load(fin)"
   ]
  },
  {
   "cell_type": "markdown",
   "metadata": {},
   "source": [
    "Чтобы стабилизировать домножение используем медиану коэффициентов"
   ]
  },
  {
   "cell_type": "code",
   "execution_count": 500,
   "metadata": {},
   "outputs": [],
   "source": [
    "mid = np.median(trend_coefs[-N:])\n",
    "for i in range(N//2):\n",
    "    pred = np.trunc(mid*pred)"
   ]
  },
  {
   "cell_type": "markdown",
   "metadata": {
    "id": "aqxTaUVm2iiP"
   },
   "source": [
    "### Сохранение результатов"
   ]
  },
  {
   "cell_type": "code",
   "execution_count": 501,
   "metadata": {},
   "outputs": [
    {
     "data": {
      "text/plain": [
       "39373"
      ]
     },
     "execution_count": 501,
     "metadata": {},
     "output_type": "execute_result"
    }
   ],
   "source": [
    "len(pred)"
   ]
  },
  {
   "cell_type": "code",
   "execution_count": 502,
   "metadata": {},
   "outputs": [],
   "source": [
    "for i in range(len(pred)):\n",
    "    if pred[i] < 1:\n",
    "        pred[i] = 1"
   ]
  },
  {
   "cell_type": "code",
   "execution_count": 503,
   "metadata": {},
   "outputs": [],
   "source": [
    "from collections import Counter"
   ]
  },
  {
   "cell_type": "code",
   "execution_count": 504,
   "metadata": {},
   "outputs": [],
   "source": [
    "orig_test = pd.read_csv('test_dataset_test.csv', sep=';', index_col=None, dtype={'PATIENT_SEX':str, 'MKB_CODE':str, 'ADRES':str, 'VISIT_MONTH_YEAR':str, 'AGE_CATEGORY':str})"
   ]
  },
  {
   "cell_type": "code",
   "execution_count": 505,
   "metadata": {},
   "outputs": [],
   "source": [
    "orig_test[\"PATIENT_ID_COUNT\"] = pred"
   ]
  },
  {
   "cell_type": "code",
   "execution_count": 506,
   "metadata": {},
   "outputs": [],
   "source": [
    "orig_test.to_csv('LinearK6_TrendN10_result.csv', sep=';', index=None)"
   ]
  }
 ],
 "metadata": {
  "colab": {
   "collapsed_sections": [],
   "name": "Нетология_baseline.ipynb",
   "provenance": []
  },
  "kernelspec": {
   "display_name": "Python 3 (ipykernel)",
   "language": "python",
   "name": "python3"
  },
  "language_info": {
   "codemirror_mode": {
    "name": "ipython",
    "version": 3
   },
   "file_extension": ".py",
   "mimetype": "text/x-python",
   "name": "python",
   "nbconvert_exporter": "python",
   "pygments_lexer": "ipython3",
   "version": "3.8.10"
  }
 },
 "nbformat": 4,
 "nbformat_minor": 1
}

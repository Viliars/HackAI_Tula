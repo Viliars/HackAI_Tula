{
 "cells": [
  {
   "cell_type": "code",
   "execution_count": 1,
   "metadata": {
    "id": "E25l8C4adTU4"
   },
   "outputs": [],
   "source": [
    "import pandas as pd\n",
    "import string"
   ]
  },
  {
   "cell_type": "code",
   "execution_count": 2,
   "metadata": {
    "id": "WdI39lYbcziV"
   },
   "outputs": [],
   "source": [
    "train = pd.read_csv('train_dataset_train.csv', sep=';', index_col=None, dtype={'PATIENT_SEX':str, 'MKB_CODE':str, 'ADRES':str, 'VISIT_MONTH_YEAR':str, 'AGE_CATEGORY':str, 'PATIENT_ID_COUNT':int})\n",
    "test = pd.read_csv('test_dataset_test.csv', sep=';', index_col=None, dtype={'PATIENT_SEX':str, 'MKB_CODE':str, 'ADRES':str, 'VISIT_MONTH_YEAR':str, 'AGE_CATEGORY':str})"
   ]
  },
  {
   "cell_type": "code",
   "execution_count": 3,
   "metadata": {},
   "outputs": [],
   "source": [
    "age2id = {\n",
    "    \"children\": 0,\n",
    "    \"young\": 1,\n",
    "    \"middleage\": 2,\n",
    "    \"elderly\": 3,\n",
    "    \"old\": 4,\n",
    "    \"centenarians\": 5\n",
    "}\n",
    "sex2id = {\n",
    "    '0': 0,\n",
    "    '1': 1\n",
    "}\n",
    "unique_city = sorted(train[\"ADRES\"].unique())\n",
    "city2ID = {city:i for i, city in enumerate(unique_city)}\n",
    "mkb2id = {letter: i for i, letter in enumerate(string.ascii_uppercase)}"
   ]
  },
  {
   "cell_type": "code",
   "execution_count": 4,
   "metadata": {},
   "outputs": [],
   "source": [
    "train[\"MONTH\"] = train[\"VISIT_MONTH_YEAR\"].apply(lambda x: int(x.split('.')[0]))\n",
    "train[\"YEAR\"] = train[\"VISIT_MONTH_YEAR\"].apply(lambda x: int(x.split('.')[1]))\n",
    "train[\"AGE\"] = train[\"AGE_CATEGORY\"].apply(lambda x: age2id[x])\n",
    "train[\"SEX\"] = train[\"PATIENT_SEX\"].apply(lambda x: sex2id[x])\n",
    "train[\"MKB1\"] = train[\"MKB_CODE\"].apply(lambda x: mkb2id[x[0]])\n",
    "train[\"MKB2\"] = train[\"MKB_CODE\"].apply(lambda x: x.split('.')[0][1:])\n",
    "train[\"MKB3\"] = train[\"MKB_CODE\"].apply(lambda x: x.split('.')[1] if len(x.split('.')) > 1 else -1)\n",
    "train[\"CITY\"] = train[\"ADRES\"].apply(lambda x: city2ID[x])\n",
    "\n",
    "test[\"MONTH\"] = test[\"VISIT_MONTH_YEAR\"].apply(lambda x: int(x.split('.')[0]))\n",
    "test[\"YEAR\"] = test[\"VISIT_MONTH_YEAR\"].apply(lambda x: int(x.split('.')[1]))\n",
    "test[\"AGE\"] = test[\"AGE_CATEGORY\"].apply(lambda x: age2id[x])\n",
    "test[\"SEX\"] = test[\"PATIENT_SEX\"].apply(lambda x: sex2id[x])\n",
    "test[\"MKB1\"] = test[\"MKB_CODE\"].apply(lambda x: mkb2id[x[0]])\n",
    "test[\"MKB2\"] = test[\"MKB_CODE\"].apply(lambda x: x.split('.')[0][1:])\n",
    "test[\"MKB3\"] = test[\"MKB_CODE\"].apply(lambda x: x.split('.')[1] if len(x.split('.')) > 1 else -1)\n",
    "test[\"CITY\"] = test[\"ADRES\"].apply(lambda x: city2ID[x])"
   ]
  },
  {
   "cell_type": "code",
   "execution_count": 5,
   "metadata": {},
   "outputs": [],
   "source": [
    "test['PATIENT_ID_COUNT'] = [0]*len(test)"
   ]
  },
  {
   "cell_type": "code",
   "execution_count": 6,
   "metadata": {},
   "outputs": [],
   "source": [
    "def prev_date(date):\n",
    "    month, year = list(map(int, date.split('.')))\n",
    "    if month == 1:\n",
    "        return f\"12.{year-1}\"\n",
    "    else:\n",
    "        return f\"{month-1:02d}.{year}\""
   ]
  },
  {
   "cell_type": "code",
   "execution_count": 7,
   "metadata": {},
   "outputs": [
    {
     "name": "stdout",
     "output_type": "stream",
     "text": [
      "mkdir: cannot create directory ‘train’: File exists\r\n"
     ]
    }
   ],
   "source": [
    "!mkdir train"
   ]
  },
  {
   "cell_type": "code",
   "execution_count": 19,
   "metadata": {},
   "outputs": [],
   "source": [
    "start_date = \"04.22\"\n",
    "for z in range(45):\n",
    "    start_date = prev_date(start_date)\n",
    "    date = start_date\n",
    "    new_train = train\n",
    "    new_test = train[train[\"VISIT_MONTH_YEAR\"] == date]\n",
    "\n",
    "    for i in range(1, 26):\n",
    "        date = prev_date(date)\n",
    "        bufer = new_train[new_train[\"VISIT_MONTH_YEAR\"] == date][['PATIENT_SEX', 'MKB_CODE', 'ADRES', 'AGE_CATEGORY', \"PATIENT_ID_COUNT\"]]\n",
    "        new_test = new_test.merge(bufer, how=\"left\", on=['PATIENT_SEX', 'MKB_CODE', 'ADRES', 'AGE_CATEGORY'], suffixes=(\"\", f\"_prev{i}\")).fillna(0)\n",
    "     \n",
    "    for i in range(1, 25):\n",
    "        new_test[f\"diff{i}-{i+1}\"] = new_test[f\"PATIENT_ID_COUNT_prev{i}\"] - new_test[f\"PATIENT_ID_COUNT_prev{i+1}\"]\n",
    "        \n",
    "    new_test[\"diff1-12\"] = new_test[f\"PATIENT_ID_COUNT_prev1\"] - new_test[f\"PATIENT_ID_COUNT_prev12\"]\n",
    "    new_test[\"diff1-13\"] = new_test[f\"PATIENT_ID_COUNT_prev1\"] - new_test[f\"PATIENT_ID_COUNT_prev13\"]\n",
    "    new_test[\"diff2-12\"] = new_test[f\"PATIENT_ID_COUNT_prev2\"] - new_test[f\"PATIENT_ID_COUNT_prev12\"]\n",
    "    new_test[\"diff2-13\"] = new_test[f\"PATIENT_ID_COUNT_prev2\"] - new_test[f\"PATIENT_ID_COUNT_prev13\"]\n",
    "    new_test[\"diff1-6\"] = new_test[f\"PATIENT_ID_COUNT_prev1\"] - new_test[f\"PATIENT_ID_COUNT_prev6\"]\n",
    "    new_test[\"diff1-3\"] = new_test[f\"PATIENT_ID_COUNT_prev1\"] - new_test[f\"PATIENT_ID_COUNT_prev3\"]\n",
    "    new_test.to_csv(f\"train/train{z}.csv\", sep=\";\", index=False)"
   ]
  },
  {
   "cell_type": "code",
   "execution_count": 8,
   "metadata": {},
   "outputs": [],
   "source": [
    "date = \"04.22\"\n",
    "for i in range(1, 26):\n",
    "    date = prev_date(date)\n",
    "    bufer = train[train[\"VISIT_MONTH_YEAR\"] == date][['PATIENT_SEX', 'MKB_CODE', 'ADRES', 'AGE_CATEGORY', \"PATIENT_ID_COUNT\"]]\n",
    "    test = test.merge(bufer, how=\"left\", on=['PATIENT_SEX', 'MKB_CODE', 'ADRES', 'AGE_CATEGORY'], suffixes=(\"\", f\"_prev{i}\")).fillna(0)\n",
    "\n",
    "for i in range(1, 25):\n",
    "    test[f\"diff{i}-{i+1}\"] = test[f\"PATIENT_ID_COUNT_prev{i}\"] - test[f\"PATIENT_ID_COUNT_prev{i+1}\"]\n",
    "test[\"diff1-12\"] = test[f\"PATIENT_ID_COUNT_prev1\"] - test[f\"PATIENT_ID_COUNT_prev12\"]\n",
    "test[\"diff1-13\"] = test[f\"PATIENT_ID_COUNT_prev1\"] - test[f\"PATIENT_ID_COUNT_prev13\"]\n",
    "test[\"diff2-12\"] = test[f\"PATIENT_ID_COUNT_prev2\"] - test[f\"PATIENT_ID_COUNT_prev12\"]\n",
    "test[\"diff2-13\"] = test[f\"PATIENT_ID_COUNT_prev2\"] - test[f\"PATIENT_ID_COUNT_prev13\"]\n",
    "test[\"diff1-6\"] = test[f\"PATIENT_ID_COUNT_prev1\"] - test[f\"PATIENT_ID_COUNT_prev6\"]\n",
    "test[\"diff1-3\"] = test[f\"PATIENT_ID_COUNT_prev1\"] - test[f\"PATIENT_ID_COUNT_prev3\"]"
   ]
  },
  {
   "cell_type": "code",
   "execution_count": 9,
   "metadata": {},
   "outputs": [],
   "source": [
    "test.to_csv(\"prepared_test.csv\", sep=\";\", index=False)"
   ]
  }
 ],
 "metadata": {
  "accelerator": "GPU",
  "colab": {
   "collapsed_sections": [],
   "name": "baseline.ipynb",
   "provenance": []
  },
  "gpuClass": "standard",
  "kernelspec": {
   "display_name": "Python 3 (ipykernel)",
   "language": "python",
   "name": "python3"
  },
  "language_info": {
   "codemirror_mode": {
    "name": "ipython",
    "version": 3
   },
   "file_extension": ".py",
   "mimetype": "text/x-python",
   "name": "python",
   "nbconvert_exporter": "python",
   "pygments_lexer": "ipython3",
   "version": "3.8.10"
  }
 },
 "nbformat": 4,
 "nbformat_minor": 1
}
